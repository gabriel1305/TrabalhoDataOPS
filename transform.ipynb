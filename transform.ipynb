{
 "cells": [
  {
   "cell_type": "code",
   "execution_count": 8,
   "id": "8a758e87",
   "metadata": {},
   "outputs": [
    {
     "name": "stdout",
     "output_type": "stream",
     "text": [
      "Dim stage gerada!\n",
      "Fat export stage gerada!\n",
      "Fat import stage gerada!\n",
      "Stage de dados criada!\n"
     ]
    }
   ],
   "source": [
    "import pandas as pd\n",
    "import requests as rq\n",
    "from bs4 import BeautifulSoup\n",
    "from datetime import datetime\n",
    "from sqlalchemy import create_engine\n",
    "import psycopg2\n",
    "import time\n",
    "\n",
    "def read_data_landing_zone():\n",
    "    dim_folder_path_landing = r'C:\\Users\\GabrielLeal\\OneDrive - Grupo Portfolio\\Área de Trabalho\\DataOps\\landing\\dimensao'\n",
    "    fat_folder_path_landing = r'C:\\Users\\GabrielLeal\\OneDrive - Grupo Portfolio\\Área de Trabalho\\DataOps\\landing\\fato'\n",
    "    \n",
    "    dim_stage_landing        = pd.read_excel(dim_folder_path_landing+'/dim_landing.xlsx')\n",
    "    fat_export_stage_landing   = pd.read_excel(fat_folder_path_landing+'/fat_export_landing.xlsx')\n",
    "    fat_import_stage_landing   = pd.read_excel(fat_folder_path_landing+'/fat_import_landing.xlsx')\n",
    "\n",
    "    return dim_stage_landing ,fat_export_stage_landing ,fat_import_stage_landing \n",
    "\n",
    "def transform():\n",
    "    dim_folder_path_stage = r'C:\\Users\\GabrielLeal\\OneDrive - Grupo Portfolio\\Área de Trabalho\\DataOps\\stage\\dimensao'\n",
    "    fat_folder_path_stage = r'C:\\Users\\GabrielLeal\\OneDrive - Grupo Portfolio\\Área de Trabalho\\DataOps\\stage\\fato'\n",
    "\n",
    "    dim_stage ,fat_export_stage ,fat_import_stage = read_data_landing_zone() # lendo arquivos\n",
    "\n",
    "    dim_stage = dim_stage.drop(columns=['CO_UNID','CO_PPE','CO_PPI','CO_FAT_AGREG','CO_CUCI_ITEM','CO_CGCE_N3','CO_SIIT','CO_ISIC_CLASSE','CO_EXP_SUBSET','NO_NCM_ESP','NO_NCM_ING'])\n",
    "    fat_import_stage = fat_import_stage.drop(columns = ['VL_FRETE','VL_SEGURO'])\n",
    "\n",
    "    dim_stage.to_excel(dim_folder_path_stage+'/dim_stage.xlsx',index=False)\n",
    "    print(\"Dim stage gerada!\")\n",
    "    fat_export_stage.to_excel(fat_folder_path_stage+'/fat_export_stage.xlsx',index=False)\n",
    "    print(\"Fat export stage gerada!\")\n",
    "    fat_import_stage.to_excel(fat_folder_path_stage+'/fat_import_stage.xlsx',index=False)\n",
    "    print(\"Fat import stage gerada!\")\n",
    "\n",
    "\n",
    "\n",
    "if __name__ == \"__main__\":\n",
    "    transform()\n",
    "    print('Stage de dados criada!')\n",
    "\n",
    "    \n"
   ]
  }
 ],
 "metadata": {
  "kernelspec": {
   "display_name": "Python 3",
   "language": "python",
   "name": "python3"
  },
  "language_info": {
   "codemirror_mode": {
    "name": "ipython",
    "version": 3
   },
   "file_extension": ".py",
   "mimetype": "text/x-python",
   "name": "python",
   "nbconvert_exporter": "python",
   "pygments_lexer": "ipython3",
   "version": "3.12.0"
  }
 },
 "nbformat": 4,
 "nbformat_minor": 5
}
