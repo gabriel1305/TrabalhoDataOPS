{
 "cells": [
  {
   "cell_type": "code",
   "execution_count": null,
   "id": "c07ea5d7",
   "metadata": {},
   "outputs": [],
   "source": [
    "# run_pipeline.py\n",
    "\n",
    "import subprocess\n",
    "\n",
    "def orquestration():\n",
    "    print(\"🚀 Iniciando execução do pipeline...\")\n",
    "\n",
    "    subprocess.run([\"python3\", \"scripts/extract.py\"], check=True)\n",
    "    subprocess.run([\"python3\", \"scripts/transform.py\"], check=True)\n",
    "    subprocess.run([\"python3\", \"scripts/ingest.py\"], check=True)\n",
    "    subprocess.run([\"python3\", \"scripts/consumer.py\"], check=True)\n",
    "\n",
    "\n",
    "    print(\"Pipeline executado com sucesso!\")\n",
    "\n",
    "if __name__ == \"__main__\":\n",
    "    orquestration()"
   ]
  }
 ],
 "metadata": {
  "language_info": {
   "name": "python"
  }
 },
 "nbformat": 4,
 "nbformat_minor": 5
}
