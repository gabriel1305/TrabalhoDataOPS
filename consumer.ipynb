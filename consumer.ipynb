{
 "cells": [
  {
   "cell_type": "code",
   "execution_count": 1,
   "id": "51dd1a34",
   "metadata": {},
   "outputs": [
    {
     "name": "stdout",
     "output_type": "stream",
     "text": [
      "     CO_ANO  CO_MES SG_UF_NCM  Total_VL_FOB\n",
      "0      2025       4        SP    6590080322\n",
      "1      2025       4        SC    2668062784\n",
      "2      2025       4        RJ    2399049752\n",
      "3      2025       4        PR    1899562202\n",
      "4      2025       4        MG    1437572118\n",
      "..      ...     ...       ...           ...\n",
      "104    2025       1        PI      34714540\n",
      "105    2025       1        TO      12171050\n",
      "106    2025       1        AP       4823548\n",
      "107    2025       1        RR       2856683\n",
      "108    2025       1        AC        125005\n",
      "\n",
      "[109 rows x 4 columns]\n"
     ]
    }
   ],
   "source": [
    "import sqlite3\n",
    "import pandas as pd\n",
    "\n",
    "def ranking_mensal():\n",
    "    # Conectar ao banco SQLite\n",
    "    conn = sqlite3.connect('comex.db')\n",
    "\n",
    "    # Definir a consulta SQL\n",
    "    query = \"\"\"\n",
    "    SELECT \n",
    "        CO_ANO, \n",
    "        CO_MES, \n",
    "        SG_UF_NCM, \n",
    "        SUM(VL_FOB) AS Total_VL_FOB\n",
    "    FROM \n",
    "        f_import_comex\n",
    "    GROUP BY \n",
    "        CO_ANO, CO_MES, SG_UF_NCM\n",
    "    ORDER BY \n",
    "        CO_ANO DESC, CO_MES DESC, Total_VL_FOB DESC;\n",
    "    \"\"\"\n",
    "\n",
    "    # Executar a consulta e armazenar o resultado em um DataFrame\n",
    "    df = pd.read_sql(query, conn)\n",
    "\n",
    "    # Fechar a conexão\n",
    "    conn.close()\n",
    "\n",
    "    return df\n",
    "\n",
    "# Chama a função e exibe os resultados\n",
    "df_ranking = ranking_mensal()\n",
    "print(df_ranking)"
   ]
  }
 ],
 "metadata": {
  "kernelspec": {
   "display_name": "Python 3",
   "language": "python",
   "name": "python3"
  },
  "language_info": {
   "codemirror_mode": {
    "name": "ipython",
    "version": 3
   },
   "file_extension": ".py",
   "mimetype": "text/x-python",
   "name": "python",
   "nbconvert_exporter": "python",
   "pygments_lexer": "ipython3",
   "version": "3.12.0"
  }
 },
 "nbformat": 4,
 "nbformat_minor": 5
}
